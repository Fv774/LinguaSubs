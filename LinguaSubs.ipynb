{
  "nbformat": 4,
  "nbformat_minor": 0,
  "metadata": {
    "colab": {
      "provenance": [],
      "gpuType": "T4",
      "include_colab_link": true
    },
    "kernelspec": {
      "name": "python3",
      "display_name": "Python 3"
    },
    "language_info": {
      "name": "python"
    },
    "accelerator": "GPU"
  },
  "cells": [
    {
      "cell_type": "markdown",
      "metadata": {
        "id": "view-in-github",
        "colab_type": "text"
      },
      "source": [
        "<a href=\"https://colab.research.google.com/github/Fv774/LinguaSubs/blob/main/LinguaSubs.ipynb\" target=\"_parent\"><img src=\"https://colab.research.google.com/assets/colab-badge.svg\" alt=\"Open In Colab\"/></a>"
      ]
    },
    {
      "cell_type": "code",
      "execution_count": null,
      "metadata": {
        "id": "8azuWNKXFG7u"
      },
      "outputs": [],
      "source": [
        "!pip install git+https://github.com/openai/whisper.git\n",
        "!pip install opencc-python-reimplemented\n",
        "!sudo apt-get install ffmpeg"
      ]
    },
    {
      "cell_type": "code",
      "source": [
        "from google.colab import files  #选择你的代码名称\n",
        "uploaded = files.upload()"
      ],
      "metadata": {
        "id": "dKUoTVa0F8IG"
      },
      "execution_count": null,
      "outputs": []
    },
    {
      "cell_type": "code",
      "source": [
        "import os\n",
        "from google.colab import files\n",
        "\n",
        "# 指定目标文件夹路径\n",
        "target_dir = \"/content/video/\"  # 你可以修改为任何路径\n",
        "\n",
        "# 创建文件夹（如果不存在）\n",
        "os.makedirs(target_dir, exist_ok=True)\n",
        "\n",
        "# 上传文件\n",
        "uploaded = files.upload()\n",
        "if not uploaded:\n",
        "    print(\"未上传任何文件！\")\n",
        "else:\n",
        "    # 获取所有上传的文件路径\n",
        "    file_paths = list(uploaded.keys())\n",
        "    print(f\"成功上传 {len(file_paths)} 个文件\")\n",
        "\n",
        "    # 逐个处理上传的文件\n",
        "    for file_path in file_paths:\n",
        "        # 构建目标文件路径\n",
        "        target_path = os.path.join(target_dir, os.path.basename(file_path))\n",
        "\n",
        "        # 移动文件到目标文件夹\n",
        "        os.rename(file_path, target_path)\n",
        "        print(f\"已将文件移动到: {target_path}\")\n",
        "\n",
        "    # 列出目标文件夹中的所有文件\n",
        "    print(f\"\\n目标文件夹 {target_dir} 中的文件:\")\n",
        "    for file in os.listdir(target_dir):\n",
        "        print(f\"- {file}\")"
      ],
      "metadata": {
        "id": "YBCWUQmmGCMM"
      },
      "execution_count": null,
      "outputs": []
    },
    {
      "cell_type": "code",
      "source": [
        "!python cheshi.py \"/content/my_videos\"  #代码开始运行提取\n",
        "from google.colab import files\n",
        "import os\n",
        "\n",
        "# 指定目录路径\n",
        "directory = '/content/my_videos/'\n",
        "\n",
        "# 获取目录下所有txt文件\n",
        "txt_files = [f for f in os.listdir(directory) if f.endswith('.txt')]\n",
        "\n",
        " # 压缩所有字幕文件为一个ZIP\n",
        "!zip -r /content/subtitles.zip /content/my_videos/*.txt\n",
        "\n",
        "# 下载ZIP文件\n",
        "files.download('/content/subtitles.zip')\n"
      ],
      "metadata": {
        "collapsed": true,
        "id": "oH1Y3y41NfFC"
      },
      "execution_count": null,
      "outputs": []
    }
  ]
}